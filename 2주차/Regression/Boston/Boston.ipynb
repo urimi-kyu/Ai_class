{
  "nbformat": 4,
  "nbformat_minor": 0,
  "metadata": {
    "colab": {
      "provenance": []
    },
    "kernelspec": {
      "name": "python3",
      "display_name": "Python 3"
    },
    "language_info": {
      "name": "python"
    }
  },
  "cells": [
    {
      "cell_type": "markdown",
      "source": [
        "\n",
        "#Boston.csv를 사용하여 회귀(Regression)하기\n",
        "\n",
        "\n"
      ],
      "metadata": {
        "id": "rc_r1VksiMhz"
      }
    },
    {
      "cell_type": "markdown",
      "source": [
        "Regression chatgpt 활용 (다음주에 더함)"
      ],
      "metadata": {
        "id": "6RhmcLn5cwYL"
      }
    },
    {
      "cell_type": "code",
      "execution_count": null,
      "metadata": {
        "id": "X_P52G7zXWf_",
        "colab": {
          "base_uri": "https://localhost:8080/"
        },
        "outputId": "87d1f158-f049-4348-aff7-25568de28633"
      },
      "outputs": [
        {
          "output_type": "stream",
          "name": "stdout",
          "text": [
            "=== Test Evaluation ===\n",
            "Decision Tree : R2=0.6323, RMSE=0.6941, MAE=0.4438\n",
            "Random Forest : R2=0.8168, RMSE=0.4899, MAE=0.3149\n",
            "Linear Reg.   : R2=0.5767, RMSE=0.7448, MAE=0.5323\n"
          ]
        }
      ],
      "source": [
        "import pandas as pd\n",
        "from sklearn.model_selection import train_test_split\n",
        "from sklearn.tree import DecisionTreeRegressor\n",
        "from sklearn.ensemble import RandomForestRegressor\n",
        "from sklearn.linear_model import LinearRegression\n",
        "from sklearn.metrics import r2_score, mean_squared_error, mean_absolute_error\n",
        "import numpy as np\n",
        "\n",
        "# -----------------------------\n",
        "# 1) 데이터 준비\n",
        "# -----------------------------\n",
        "\n",
        "df = pd.read_csv(\"/content/drive/MyDrive/Colab Notebooks/boston.csv\").dropna()\n",
        "\n",
        "X = df.drop(columns=[\"PRICE\"])   # 독립변수\n",
        "y = df[\"PRICE\"]                  # 종속변수 (집값)\n",
        "\n",
        "X_train, X_test, y_train, y_test = train_test_split(\n",
        "    X, y, test_size=0.2, random_state=42\n",
        ")\n",
        "\n",
        "# -----------------------------\n",
        "# 2) 모델 구성\n",
        "# -----------------------------\n",
        "dt = DecisionTreeRegressor(random_state=42)\n",
        "rf = RandomForestRegressor(n_estimators=200, random_state=42)\n",
        "lr = LinearRegression()\n",
        "\n",
        "# -----------------------------\n",
        "# 3) 모델 학습\n",
        "# -----------------------------\n",
        "dt.fit(X_train, y_train)\n",
        "rf.fit(X_train, y_train)\n",
        "lr.fit(X_train, y_train)\n",
        "\n",
        "\n",
        "# -----------------------------\n",
        "# 4) 모델 평가\n",
        "# -----------------------------\n",
        "def evaluate(model, X_test, y_test):\n",
        "    preds = model.predict(X_test)\n",
        "    r2 = r2_score(y_test, preds)\n",
        "    rmse = np.sqrt(mean_squared_error(y_test, preds))\n",
        "    mae = mean_absolute_error(y_test, preds)\n",
        "    return r2, rmse, mae\n",
        "\n",
        "dt_r2, dt_rmse, dt_mae = evaluate(dt, X_test, y_test)\n",
        "rf_r2, rf_rmse, rf_mae = evaluate(rf, X_test, y_test)\n",
        "lr_r2, lr_rmse, lr_mae = evaluate(lr, X_test, y_test)\n",
        "\n",
        "print(\"=== Test Evaluation ===\")\n",
        "print(f\"Decision Tree : R2={dt_r2:.4f}, RMSE={dt_rmse:.4f}, MAE={dt_mae:.4f}\")\n",
        "print(f\"Random Forest : R2={rf_r2:.4f}, RMSE={rf_rmse:.4f}, MAE={rf_mae:.4f}\")\n",
        "print(f\"Linear Reg.   : R2={lr_r2:.4f}, RMSE={lr_rmse:.4f}, MAE={lr_mae:.4f}\")\n"
      ]
    }
  ]
}