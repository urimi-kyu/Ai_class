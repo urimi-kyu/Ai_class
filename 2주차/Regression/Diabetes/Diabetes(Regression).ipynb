{
  "nbformat": 4,
  "nbformat_minor": 0,
  "metadata": {
    "colab": {
      "provenance": []
    },
    "kernelspec": {
      "name": "python3",
      "display_name": "Python 3"
    },
    "language_info": {
      "name": "python"
    }
  },
  "cells": [
    {
      "cell_type": "code",
      "execution_count": 1,
      "metadata": {
        "id": "A7Rs0KPPAbjD"
      },
      "outputs": [],
      "source": [
        "import pandas as pd\n",
        "from sklearn.model_selection import train_test_split\n",
        "from sklearn.metrics import mean_squared_error, r2_score\n",
        "\n",
        "df = pd.read_csv(\"/content/drive/MyDrive/Colab Notebooks/diabetes.csv\")"
      ]
    },
    {
      "cell_type": "markdown",
      "source": [
        "마지막열인 outcome삭제하는 코드"
      ],
      "metadata": {
        "id": "lOVfjF-uDL8b"
      }
    },
    {
      "cell_type": "code",
      "source": [
        "df = df.drop(columns=['Outcome'])"
      ],
      "metadata": {
        "id": "C1wShXeiDKyC"
      },
      "execution_count": 2,
      "outputs": []
    },
    {
      "cell_type": "markdown",
      "source": [
        "타겟 대상을 선택...? #질문 필요\n"
      ],
      "metadata": {
        "id": "y7amvAp0V6B1"
      }
    },
    {
      "cell_type": "code",
      "source": [
        "# ------------------------------\n",
        "# 예측 대상(target) 설정\n",
        "#  예: 'Glucose'를 다른 변수로 예측\n",
        "# ------------------------------\n",
        "target = 'Glucose'\n",
        "X = df.drop(columns=[target])\n",
        "y = df[target]"
      ],
      "metadata": {
        "id": "OQv-9vUuV8t7"
      },
      "execution_count": 3,
      "outputs": []
    },
    {
      "cell_type": "markdown",
      "source": [
        "훈련/테스트 데이터 분리"
      ],
      "metadata": {
        "id": "s6VnHfSuWFfa"
      }
    },
    {
      "cell_type": "code",
      "source": [
        "X_train, X_test, y_train, y_test = train_test_split(\n",
        "    X, y, test_size=0.2, random_state=42\n",
        ")"
      ],
      "metadata": {
        "id": "qDwrXqaSWJK2"
      },
      "execution_count": 4,
      "outputs": []
    },
    {
      "cell_type": "markdown",
      "source": [
        "모델별 학습하고 MSE,R2를 출력"
      ],
      "metadata": {
        "id": "nWJVZbhRWLLb"
      }
    },
    {
      "cell_type": "code",
      "source": [
        "def evaluate_model(name, model):\n",
        "    \"\"\"모델을 학습하고 MSE, R2를 출력\"\"\"\n",
        "    model.fit(X_train, y_train)\n",
        "    y_pred = model.predict(X_test)\n",
        "    mse = mean_squared_error(y_test, y_pred)\n",
        "    r2 = r2_score(y_test, y_pred)\n",
        "    print(f\"▶ {name}\")\n",
        "    print(f\"  - 평균제곱오차(MSE): {mse:.2f}\")\n",
        "    print(f\"  - 결정계수(R²): {r2:.2f}\\n\")\n",
        "    return model\n"
      ],
      "metadata": {
        "id": "qKXlh-gCWSl6"
      },
      "execution_count": 5,
      "outputs": []
    },
    {
      "cell_type": "markdown",
      "source": [
        "평가"
      ],
      "metadata": {
        "id": "k87Guja1WUxx"
      }
    },
    {
      "cell_type": "code",
      "source": [
        "from sklearn.linear_model import LinearRegression\n",
        "from sklearn.tree import DecisionTreeRegressor\n",
        "from sklearn.ensemble import RandomForestRegressor\n",
        "\n",
        "# 선형회귀\n",
        "lin_model = evaluate_model(\"Linear Regression\", LinearRegression())\n",
        "\n",
        "# 의사결정나무 회귀\n",
        "dt_model  = evaluate_model(\"Decision Tree Regressor\",\n",
        "                           DecisionTreeRegressor(random_state=42))\n",
        "\n",
        "# 랜덤포레스트 회귀\n",
        "rf_model  = evaluate_model(\"Random Forest Regressor\",\n",
        "                           RandomForestRegressor(n_estimators=100,\n",
        "                                                 random_state=42))"
      ],
      "metadata": {
        "colab": {
          "base_uri": "https://localhost:8080/"
        },
        "id": "LgOP-karWYK9",
        "outputId": "feb2d7ae-54d9-45d8-e029-503b0eb560b9"
      },
      "execution_count": 6,
      "outputs": [
        {
          "output_type": "stream",
          "name": "stdout",
          "text": [
            "▶ Linear Regression\n",
            "  - 평균제곱오차(MSE): 869.48\n",
            "  - 결정계수(R²): 0.14\n",
            "\n",
            "▶ Decision Tree Regressor\n",
            "  - 평균제곱오차(MSE): 1461.10\n",
            "  - 결정계수(R²): -0.45\n",
            "\n",
            "▶ Random Forest Regressor\n",
            "  - 평균제곱오차(MSE): 809.47\n",
            "  - 결정계수(R²): 0.20\n",
            "\n"
          ]
        }
      ]
    }
  ]
}